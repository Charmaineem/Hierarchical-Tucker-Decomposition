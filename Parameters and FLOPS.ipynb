{
 "cells": [
  {
   "cell_type": "code",
   "execution_count": 2,
   "id": "454186a9-2444-44a4-a639-22f3725c0c2d",
   "metadata": {},
   "outputs": [
    {
     "name": "stdout",
     "output_type": "stream",
     "text": [
      "\u001b[33mWARNING: Running pip as the 'root' user can result in broken permissions and conflicting behaviour with the system package manager, possibly rendering your system unusable.It is recommended to use a virtual environment instead: https://pip.pypa.io/warnings/venv. Use the --root-user-action option if you know what you are doing and want to suppress this warning.\u001b[0m\u001b[33m\n",
      "\u001b[0m"
     ]
    }
   ],
   "source": [
    "!pip install torch torchvision fvcore torchinfo --quiet\n"
   ]
  },
  {
   "cell_type": "code",
   "execution_count": 13,
   "id": "6a5a1bce-1d0b-43cc-a83c-1563418b4e01",
   "metadata": {},
   "outputs": [
    {
     "name": "stdout",
     "output_type": "stream",
     "text": [
      "\u001b[33mWARNING: Running pip as the 'root' user can result in broken permissions and conflicting behaviour with the system package manager, possibly rendering your system unusable.It is recommended to use a virtual environment instead: https://pip.pypa.io/warnings/venv. Use the --root-user-action option if you know what you are doing and want to suppress this warning.\u001b[0m\u001b[33m\n",
      "\u001b[0m"
     ]
    }
   ],
   "source": [
    "!pip install matplotlib --quiet"
   ]
  },
  {
   "cell_type": "code",
   "execution_count": 3,
   "id": "cc72fff4-fa4d-4884-8746-371405da8544",
   "metadata": {},
   "outputs": [],
   "source": [
    "import torch\n",
    "import torch.nn as nn\n",
    "from torchvision import models\n",
    "from torchvision.models import vgg16\n",
    "from torch.profiler import profile, record_function, ProfilerActivity\n",
    "from fvcore.nn import FlopCountAnalysis, parameter_count"
   ]
  },
  {
   "cell_type": "code",
   "execution_count": 23,
   "id": "d39998f0-d50c-478b-8148-f99c7f4a05d9",
   "metadata": {},
   "outputs": [
    {
     "name": "stdout",
     "output_type": "stream",
     "text": [
      "cuda\n"
     ]
    }
   ],
   "source": [
    "device = torch.device(\"cuda\" if torch.cuda.is_available() else \"cpu\")\n",
    "print(device)"
   ]
  },
  {
   "cell_type": "code",
   "execution_count": 5,
   "id": "650e7b34-ad23-4800-b91d-251f7cc64466",
   "metadata": {},
   "outputs": [
    {
     "name": "stderr",
     "output_type": "stream",
     "text": [
      "/root/miniconda3/envs/py3.10/lib/python3.10/site-packages/torchvision/models/_utils.py:208: UserWarning: The parameter 'pretrained' is deprecated since 0.13 and may be removed in the future, please use 'weights' instead.\n",
      "  warnings.warn(\n",
      "/root/miniconda3/envs/py3.10/lib/python3.10/site-packages/torchvision/models/_utils.py:223: UserWarning: Arguments other than a weight enum or `None` for 'weights' are deprecated since 0.13 and may be removed in the future. The current behavior is equivalent to passing `weights=None`.\n",
      "  warnings.warn(msg)\n"
     ]
    },
    {
     "data": {
      "text/plain": [
       "<All keys matched successfully>"
      ]
     },
     "execution_count": 5,
     "metadata": {},
     "output_type": "execute_result"
    }
   ],
   "source": [
    "    state_dict = torch.load(\"vgg16.pth\", weights_only=True)\n",
    "    vgg16 = models.vgg16(pretrained=False).to(device)\n",
    "    vgg16.load_state_dict(state_dict)"
   ]
  },
  {
   "cell_type": "code",
   "execution_count": 6,
   "id": "6a26c6d1-8c79-4d0a-9685-c5301b93426c",
   "metadata": {},
   "outputs": [
    {
     "data": {
      "text/plain": [
       "VGG(\n",
       "  (features): Sequential(\n",
       "    (0): Conv2d(3, 64, kernel_size=(3, 3), stride=(1, 1), padding=(1, 1))\n",
       "    (1): ReLU(inplace=True)\n",
       "    (2): Conv2d(64, 64, kernel_size=(3, 3), stride=(1, 1), padding=(1, 1))\n",
       "    (3): ReLU(inplace=True)\n",
       "    (4): MaxPool2d(kernel_size=2, stride=2, padding=0, dilation=1, ceil_mode=False)\n",
       "    (5): Conv2d(64, 128, kernel_size=(3, 3), stride=(1, 1), padding=(1, 1))\n",
       "    (6): ReLU(inplace=True)\n",
       "    (7): Conv2d(128, 128, kernel_size=(3, 3), stride=(1, 1), padding=(1, 1))\n",
       "    (8): ReLU(inplace=True)\n",
       "    (9): MaxPool2d(kernel_size=2, stride=2, padding=0, dilation=1, ceil_mode=False)\n",
       "    (10): Conv2d(128, 256, kernel_size=(3, 3), stride=(1, 1), padding=(1, 1))\n",
       "    (11): ReLU(inplace=True)\n",
       "    (12): Conv2d(256, 256, kernel_size=(3, 3), stride=(1, 1), padding=(1, 1))\n",
       "    (13): ReLU(inplace=True)\n",
       "    (14): Conv2d(256, 256, kernel_size=(3, 3), stride=(1, 1), padding=(1, 1))\n",
       "    (15): ReLU(inplace=True)\n",
       "    (16): MaxPool2d(kernel_size=2, stride=2, padding=0, dilation=1, ceil_mode=False)\n",
       "    (17): Conv2d(256, 512, kernel_size=(3, 3), stride=(1, 1), padding=(1, 1))\n",
       "    (18): ReLU(inplace=True)\n",
       "    (19): Conv2d(512, 512, kernel_size=(3, 3), stride=(1, 1), padding=(1, 1))\n",
       "    (20): ReLU(inplace=True)\n",
       "    (21): Conv2d(512, 512, kernel_size=(3, 3), stride=(1, 1), padding=(1, 1))\n",
       "    (22): ReLU(inplace=True)\n",
       "    (23): MaxPool2d(kernel_size=2, stride=2, padding=0, dilation=1, ceil_mode=False)\n",
       "    (24): Conv2d(512, 512, kernel_size=(3, 3), stride=(1, 1), padding=(1, 1))\n",
       "    (25): ReLU(inplace=True)\n",
       "    (26): Conv2d(512, 512, kernel_size=(3, 3), stride=(1, 1), padding=(1, 1))\n",
       "    (27): ReLU(inplace=True)\n",
       "    (28): Conv2d(512, 512, kernel_size=(3, 3), stride=(1, 1), padding=(1, 1))\n",
       "    (29): ReLU(inplace=True)\n",
       "    (30): MaxPool2d(kernel_size=2, stride=2, padding=0, dilation=1, ceil_mode=False)\n",
       "  )\n",
       "  (avgpool): AdaptiveAvgPool2d(output_size=(7, 7))\n",
       "  (classifier): Sequential(\n",
       "    (0): Linear(in_features=25088, out_features=4096, bias=True)\n",
       "    (1): ReLU(inplace=True)\n",
       "    (2): Dropout(p=0.5, inplace=False)\n",
       "    (3): Linear(in_features=4096, out_features=4096, bias=True)\n",
       "    (4): ReLU(inplace=True)\n",
       "    (5): Dropout(p=0.5, inplace=False)\n",
       "    (6): Linear(in_features=4096, out_features=1000, bias=True)\n",
       "  )\n",
       ")"
      ]
     },
     "execution_count": 6,
     "metadata": {},
     "output_type": "execute_result"
    }
   ],
   "source": [
    "vgg16.eval()"
   ]
  },
  {
   "cell_type": "code",
   "execution_count": 24,
   "id": "2083df6b-b251-4bc9-8c35-74d16660a74b",
   "metadata": {},
   "outputs": [],
   "source": [
    "input_tensor = torch.randn(1, 3, 224, 224).to(device)"
   ]
  },
  {
   "cell_type": "code",
   "execution_count": 8,
   "id": "a0574dff-719a-4c76-a518-26eb2aa60d89",
   "metadata": {},
   "outputs": [
    {
     "name": "stderr",
     "output_type": "stream",
     "text": [
      "Unsupported operator aten::max_pool2d encountered 5 time(s)\n"
     ]
    },
    {
     "name": "stdout",
     "output_type": "stream",
     "text": [
      "-------------------------------------------------------  ------------  ------------  ------------  ------------  ------------  ------------  ------------  ------------  ------------  ------------  ------------  ------------  ------------  ------------  \n",
      "                                                   Name    Self CPU %      Self CPU   CPU total %     CPU total  CPU time avg     Self CUDA   Self CUDA %    CUDA total  CUDA time avg       CPU Mem  Self CPU Mem      CUDA Mem  Self CUDA Mem    # of Calls  \n",
      "-------------------------------------------------------  ------------  ------------  ------------  ------------  ------------  ------------  ------------  ------------  ------------  ------------  ------------  ------------  ------------  ------------  \n",
      "                                aten::cudnn_convolution        38.43%      52.765ms        84.38%     115.845ms       8.911ms       1.315ms         1.49%       1.315ms     101.167us           0 b           0 b      52.84 Mb      52.84 Mb            13  \n",
      "                                       cudaLaunchKernel        36.08%      49.535ms        36.08%      49.535ms     687.982us       0.000us         0.00%       0.000us       0.000us           0 b           0 b           0 b           0 b            72  \n",
      "                                               cudaFree         8.32%      11.428ms         8.32%      11.428ms       3.809ms       0.000us         0.00%       0.000us       0.000us           0 b           0 b           0 b           0 b             3  \n",
      "                                  cudaFuncGetAttributes         5.79%       7.951ms         5.79%       7.951ms      13.998us       0.000us         0.00%       0.000us       0.000us           0 b           0 b           0 b           0 b           568  \n",
      "cudaOccupancyMaxActiveBlocksPerMultiprocessorWithFla...         2.73%       3.742ms         2.73%       3.742ms       1.247ms       0.000us         0.00%       0.000us       0.000us           0 b           0 b           0 b           0 b             3  \n",
      "                                   cudaFuncSetAttribute         1.97%       2.706ms         1.97%       2.706ms     208.183us       0.000us         0.00%       0.000us       0.000us           0 b           0 b           0 b           0 b            13  \n",
      "                                    cudaLaunchKernelExC         1.13%       1.557ms         1.13%       1.557ms     194.612us       0.000us         0.00%       0.000us       0.000us           0 b           0 b           0 b           0 b             8  \n",
      "                                          cudaHostAlloc         1.12%       1.532ms         1.12%       1.532ms       1.532ms       0.000us         0.00%       0.000us       0.000us           0 b           0 b           0 b           0 b             1  \n",
      "                                             cudaMalloc         1.09%       1.496ms         1.09%       1.496ms     136.003us       0.000us         0.00%       0.000us       0.000us           0 b           0 b           0 b           0 b            11  \n",
      "                                        vgg16_inference         0.86%       1.176ms        99.89%     137.133ms     137.133ms       0.000us         0.00%       2.388ms       2.388ms           0 b           0 b      78.92 Mb           0 b             1  \n",
      "-------------------------------------------------------  ------------  ------------  ------------  ------------  ------------  ------------  ------------  ------------  ------------  ------------  ------------  ------------  ------------  ------------  \n",
      "Self CPU time total: 137.286ms\n",
      "Self CUDA time total: 88.047ms\n",
      "\n",
      "FLOPs (Original VGG16): 15470289408\n",
      "Parameters (Original VGG16): 138357544\n"
     ]
    }
   ],
   "source": [
    "with profile(\n",
    "    activities=[ProfilerActivity.CPU, ProfilerActivity.CUDA],\n",
    "    record_shapes=True,\n",
    "    profile_memory=True\n",
    ") as prof:\n",
    "    with record_function(\"vgg16_inference\"):\n",
    "        output = vgg16(input_tensor)\n",
    "\n",
    "print(prof.key_averages().table(sort_by=\"self_cpu_time_total\", row_limit=10))\n",
    "\n",
    "flops = FlopCountAnalysis(vgg16, input_tensor)\n",
    "params = parameter_count(vgg16)\n",
    "\n",
    "print(f\"FLOPs (Original VGG16): {flops.total()}\")\n",
    "print(f\"Parameters (Original VGG16): {params['']}\")"
   ]
  },
  {
   "cell_type": "code",
   "execution_count": 9,
   "id": "ccc2a0c5-ca89-4002-9af6-647b51f7782a",
   "metadata": {},
   "outputs": [
    {
     "name": "stderr",
     "output_type": "stream",
     "text": [
      "/tmp/ipykernel_78/3063968472.py:1: FutureWarning: You are using `torch.load` with `weights_only=False` (the current default value), which uses the default pickle module implicitly. It is possible to construct malicious pickle data which will execute arbitrary code during unpickling (See https://github.com/pytorch/pytorch/blob/main/SECURITY.md#untrusted-models for more details). In a future release, the default value for `weights_only` will be flipped to `True`. This limits the functions that could be executed during unpickling. Arbitrary objects will no longer be allowed to be loaded via this mode unless they are explicitly allowlisted by the user via `torch.serialization.add_safe_globals`. We recommend you start setting `weights_only=True` for any use case where you don't have full control of the loaded file. Please open an issue on GitHub for any issues related to this experimental feature.\n",
      "  checkpoint = torch.load('vgg16_ht2.pth')\n"
     ]
    },
    {
     "data": {
      "text/plain": [
       "VGG(\n",
       "  (features): Sequential(\n",
       "    (0): Sequential(\n",
       "      (0): Conv2d(3, 27, kernel_size=(3, 3), stride=(1, 1), padding=(1, 1), bias=False)\n",
       "      (1): Conv2d(27, 64, kernel_size=(1, 1), stride=(1, 1))\n",
       "    )\n",
       "    (1): ReLU(inplace=True)\n",
       "    (2): Sequential(\n",
       "      (0): Conv2d(64, 13, kernel_size=(1, 1), stride=(1, 1), bias=False)\n",
       "      (1): Conv2d(13, 19, kernel_size=(3, 1), stride=(1, 1), padding=(1, 0), bias=False)\n",
       "      (2): Conv2d(19, 19, kernel_size=(1, 3), stride=(1, 1), padding=(0, 1), bias=False)\n",
       "      (3): Conv2d(19, 64, kernel_size=(1, 1), stride=(1, 1))\n",
       "    )\n",
       "    (3): ReLU(inplace=True)\n",
       "    (4): MaxPool2d(kernel_size=2, stride=2, padding=0, dilation=1, ceil_mode=False)\n",
       "    (5): Sequential(\n",
       "      (0): Conv2d(64, 18, kernel_size=(1, 1), stride=(1, 1), bias=False)\n",
       "      (1): Conv2d(18, 31, kernel_size=(3, 1), stride=(1, 1), padding=(1, 0), bias=False)\n",
       "      (2): Conv2d(31, 34, kernel_size=(1, 3), stride=(1, 1), padding=(0, 1), bias=False)\n",
       "      (3): Conv2d(34, 128, kernel_size=(1, 1), stride=(1, 1))\n",
       "    )\n",
       "    (6): ReLU(inplace=True)\n",
       "    (7): Sequential(\n",
       "      (0): Conv2d(128, 46, kernel_size=(1, 1), stride=(1, 1), bias=False)\n",
       "      (1): Conv2d(46, 65, kernel_size=(3, 1), stride=(1, 1), padding=(1, 0), bias=False)\n",
       "      (2): Conv2d(65, 52, kernel_size=(1, 3), stride=(1, 1), padding=(0, 1), bias=False)\n",
       "      (3): Conv2d(52, 128, kernel_size=(1, 1), stride=(1, 1))\n",
       "    )\n",
       "    (8): ReLU(inplace=True)\n",
       "    (9): MaxPool2d(kernel_size=2, stride=2, padding=0, dilation=1, ceil_mode=False)\n",
       "    (10): Sequential(\n",
       "      (0): Conv2d(128, 45, kernel_size=(1, 1), stride=(1, 1), bias=False)\n",
       "      (1): Conv2d(45, 76, kernel_size=(3, 1), stride=(1, 1), padding=(1, 0), bias=False)\n",
       "      (2): Conv2d(76, 80, kernel_size=(1, 3), stride=(1, 1), padding=(0, 1), bias=False)\n",
       "      (3): Conv2d(80, 256, kernel_size=(1, 1), stride=(1, 1))\n",
       "    )\n",
       "    (11): ReLU(inplace=True)\n",
       "    (12): Sequential(\n",
       "      (0): Conv2d(256, 98, kernel_size=(1, 1), stride=(1, 1), bias=False)\n",
       "      (1): Conv2d(98, 132, kernel_size=(3, 1), stride=(1, 1), padding=(1, 0), bias=False)\n",
       "      (2): Conv2d(132, 103, kernel_size=(1, 3), stride=(1, 1), padding=(0, 1), bias=False)\n",
       "      (3): Conv2d(103, 256, kernel_size=(1, 1), stride=(1, 1))\n",
       "    )\n",
       "    (13): ReLU(inplace=True)\n",
       "    (14): Sequential(\n",
       "      (0): Conv2d(256, 104, kernel_size=(1, 1), stride=(1, 1), bias=False)\n",
       "      (1): Conv2d(104, 143, kernel_size=(3, 1), stride=(1, 1), padding=(1, 0), bias=False)\n",
       "      (2): Conv2d(143, 113, kernel_size=(1, 3), stride=(1, 1), padding=(0, 1), bias=False)\n",
       "      (3): Conv2d(113, 256, kernel_size=(1, 1), stride=(1, 1))\n",
       "    )\n",
       "    (15): ReLU(inplace=True)\n",
       "    (16): MaxPool2d(kernel_size=2, stride=2, padding=0, dilation=1, ceil_mode=False)\n",
       "    (17): Sequential(\n",
       "      (0): Conv2d(256, 100, kernel_size=(1, 1), stride=(1, 1), bias=False)\n",
       "      (1): Conv2d(100, 162, kernel_size=(3, 1), stride=(1, 1), padding=(1, 0), bias=False)\n",
       "      (2): Conv2d(162, 169, kernel_size=(1, 3), stride=(1, 1), padding=(0, 1), bias=False)\n",
       "      (3): Conv2d(169, 512, kernel_size=(1, 1), stride=(1, 1))\n",
       "    )\n",
       "    (18): ReLU(inplace=True)\n",
       "    (19): Sequential(\n",
       "      (0): Conv2d(512, 209, kernel_size=(1, 1), stride=(1, 1), bias=False)\n",
       "      (1): Conv2d(209, 267, kernel_size=(3, 1), stride=(1, 1), padding=(1, 0), bias=False)\n",
       "      (2): Conv2d(267, 217, kernel_size=(1, 3), stride=(1, 1), padding=(0, 1), bias=False)\n",
       "      (3): Conv2d(217, 512, kernel_size=(1, 1), stride=(1, 1))\n",
       "    )\n",
       "    (20): ReLU(inplace=True)\n",
       "    (21): Sequential(\n",
       "      (0): Conv2d(512, 222, kernel_size=(1, 1), stride=(1, 1), bias=False)\n",
       "      (1): Conv2d(222, 281, kernel_size=(3, 1), stride=(1, 1), padding=(1, 0), bias=False)\n",
       "      (2): Conv2d(281, 231, kernel_size=(1, 3), stride=(1, 1), padding=(0, 1), bias=False)\n",
       "      (3): Conv2d(231, 512, kernel_size=(1, 1), stride=(1, 1))\n",
       "    )\n",
       "    (22): ReLU(inplace=True)\n",
       "    (23): MaxPool2d(kernel_size=2, stride=2, padding=0, dilation=1, ceil_mode=False)\n",
       "    (24): Sequential(\n",
       "      (0): Conv2d(512, 208, kernel_size=(1, 1), stride=(1, 1), bias=False)\n",
       "      (1): Conv2d(208, 265, kernel_size=(3, 1), stride=(1, 1), padding=(1, 0), bias=False)\n",
       "      (2): Conv2d(265, 228, kernel_size=(1, 3), stride=(1, 1), padding=(0, 1), bias=False)\n",
       "      (3): Conv2d(228, 512, kernel_size=(1, 1), stride=(1, 1))\n",
       "    )\n",
       "    (25): ReLU(inplace=True)\n",
       "    (26): Sequential(\n",
       "      (0): Conv2d(512, 219, kernel_size=(1, 1), stride=(1, 1), bias=False)\n",
       "      (1): Conv2d(219, 254, kernel_size=(3, 1), stride=(1, 1), padding=(1, 0), bias=False)\n",
       "      (2): Conv2d(254, 221, kernel_size=(1, 3), stride=(1, 1), padding=(0, 1), bias=False)\n",
       "      (3): Conv2d(221, 512, kernel_size=(1, 1), stride=(1, 1))\n",
       "    )\n",
       "    (27): ReLU(inplace=True)\n",
       "    (28): Sequential(\n",
       "      (0): Conv2d(512, 214, kernel_size=(1, 1), stride=(1, 1), bias=False)\n",
       "      (1): Conv2d(214, 239, kernel_size=(3, 1), stride=(1, 1), padding=(1, 0), bias=False)\n",
       "      (2): Conv2d(239, 211, kernel_size=(1, 3), stride=(1, 1), padding=(0, 1), bias=False)\n",
       "      (3): Conv2d(211, 512, kernel_size=(1, 1), stride=(1, 1))\n",
       "    )\n",
       "    (29): ReLU(inplace=True)\n",
       "    (30): MaxPool2d(kernel_size=2, stride=2, padding=0, dilation=1, ceil_mode=False)\n",
       "  )\n",
       "  (avgpool): AdaptiveAvgPool2d(output_size=(7, 7))\n",
       "  (classifier): Sequential(\n",
       "    (0): Sequential(\n",
       "      (0): Linear(in_features=25088, out_features=1516, bias=False)\n",
       "      (1): Linear(in_features=1516, out_features=4096, bias=True)\n",
       "    )\n",
       "    (1): ReLU(inplace=True)\n",
       "    (2): Dropout(p=0.5, inplace=False)\n",
       "    (3): Sequential(\n",
       "      (0): Linear(in_features=4096, out_features=867, bias=False)\n",
       "      (1): Linear(in_features=867, out_features=4096, bias=True)\n",
       "    )\n",
       "    (4): ReLU(inplace=True)\n",
       "    (5): Dropout(p=0.5, inplace=False)\n",
       "    (6): Sequential(\n",
       "      (0): Linear(in_features=4096, out_features=311, bias=False)\n",
       "      (1): Linear(in_features=311, out_features=1000, bias=True)\n",
       "    )\n",
       "  )\n",
       ")"
      ]
     },
     "execution_count": 9,
     "metadata": {},
     "output_type": "execute_result"
    }
   ],
   "source": [
    "checkpoint = torch.load('vgg16_ht2.pth')\n",
    "model = checkpoint[\"model\"] \n",
    "model.load_state_dict(checkpoint[\"state_dict\"]) \n",
    "model = model.to(device)\n",
    "model.eval()"
   ]
  },
  {
   "cell_type": "code",
   "execution_count": 10,
   "id": "7610e352-7f4c-4c61-b6cc-5244b15c64f0",
   "metadata": {},
   "outputs": [
    {
     "name": "stderr",
     "output_type": "stream",
     "text": [
      "Unsupported operator aten::max_pool2d encountered 5 time(s)\n"
     ]
    },
    {
     "name": "stdout",
     "output_type": "stream",
     "text": [
      "-------------------------------------------------------  ------------  ------------  ------------  ------------  ------------  ------------  ------------  ------------  ------------  ------------  ------------  ------------  ------------  ------------  \n",
      "                                                   Name    Self CPU %      Self CPU   CPU total %     CPU total  CPU time avg     Self CUDA   Self CUDA %    CUDA total  CUDA time avg       CPU Mem  Self CPU Mem      CUDA Mem  Self CUDA Mem    # of Calls  \n",
      "-------------------------------------------------------  ------------  ------------  ------------  ------------  ------------  ------------  ------------  ------------  ------------  ------------  ------------  ------------  ------------  ------------  \n",
      "                                aten::cudnn_convolution        29.87%      47.605ms        95.12%     151.617ms       3.032ms       1.395ms         0.94%       1.474ms      29.473us           0 b           0 b      99.12 Mb      92.19 Mb            50  \n",
      "                                  cudaFuncGetAttributes        29.36%      46.791ms        29.36%      46.791ms      15.483us       0.000us         0.00%       0.000us       0.000us           0 b           0 b           0 b           0 b          3022  \n",
      "                                       cudaLaunchKernel        17.59%      28.044ms        17.59%      28.044ms     175.272us       0.000us         0.00%       0.000us       0.000us           0 b           0 b           0 b           0 b           160  \n",
      "cudaOccupancyMaxActiveBlocksPerMultiprocessorWithFla...        13.95%      22.243ms        13.95%      22.243ms      81.179us       0.000us         0.00%       0.000us       0.000us           0 b           0 b           0 b           0 b           274  \n",
      "          cudaOccupancyMaxActiveBlocksPerMultiprocessor         2.26%       3.606ms         2.26%       3.606ms      37.563us       0.000us         0.00%       0.000us       0.000us           0 b           0 b           0 b           0 b            96  \n",
      "                                        vgg16_inference         1.42%       2.269ms       100.00%     159.389ms     159.389ms       0.000us         0.00%       2.174ms       2.174ms           0 b           0 b      46.30 Mb     -70.79 Mb             1  \n",
      "                                   cudaFuncSetAttribute         1.33%       2.120ms         1.33%       2.120ms      48.188us       0.000us         0.00%       0.000us       0.000us           0 b           0 b           0 b           0 b            44  \n",
      "                                             cudaMalloc         1.11%       1.772ms         1.11%       1.772ms     177.191us       0.000us         0.00%       0.000us       0.000us           0 b           0 b           0 b           0 b            10  \n",
      "                                    cudaLaunchKernelExC         0.91%       1.449ms         0.91%       1.449ms      96.577us       0.000us         0.00%       0.000us       0.000us           0 b           0 b           0 b           0 b            15  \n",
      "                                      aten::convolution         0.33%     531.581us        95.92%     152.897ms       3.058ms       0.000us         0.00%       1.628ms      32.570us           0 b           0 b      99.12 Mb           0 b            50  \n",
      "-------------------------------------------------------  ------------  ------------  ------------  ------------  ------------  ------------  ------------  ------------  ------------  ------------  ------------  ------------  ------------  ------------  \n",
      "Self CPU time total: 159.395ms\n",
      "Self CUDA time total: 148.381ms\n",
      "\n",
      "FLOPs (Decomposed VGG16): 3380178636\n",
      "Parameters (Decomposed VGG16): 56395192\n"
     ]
    }
   ],
   "source": [
    "with profile(\n",
    "    activities=[ProfilerActivity.CPU, ProfilerActivity.CUDA],\n",
    "    record_shapes=True,\n",
    "    profile_memory=True\n",
    ") as prof:\n",
    "    with record_function(\"vgg16_inference\"):\n",
    "        output = model(input_tensor)\n",
    "\n",
    "print(prof.key_averages().table(sort_by=\"self_cpu_time_total\", row_limit=10))\n",
    "\n",
    "flops = FlopCountAnalysis(model, input_tensor)\n",
    "params = parameter_count(model)\n",
    "\n",
    "print(f\"FLOPs (Decomposed VGG16): {flops.total()}\")\n",
    "print(f\"Parameters (Decomposed VGG16): {params['']}\")"
   ]
  },
  {
   "cell_type": "code",
   "execution_count": 17,
   "id": "c018c8cc-78c6-4b31-ae1e-1bdb9c949d01",
   "metadata": {},
   "outputs": [
    {
     "data": {
      "image/png": "[encoded data removed]",
      "text/plain": [
       "<Figure size 640x480 with 1 Axes>"
      ]
     },
     "metadata": {},
     "output_type": "display_data"
    }
   ],
   "source": [
    "import matplotlib.pyplot as plt\n",
    "\n",
    "# Metrics\n",
    "labels = ['FLOPs', 'Parameters']\n",
    "original_values = [15470289408, 138357544]\n",
    "decomposed_values = [3380178636, 56395192]\n",
    "\n",
    "# Bar chart\n",
    "x = range(len(labels))\n",
    "plt.bar(x, original_values, width=0.4, label='Original VGG16', align='center')\n",
    "plt.bar([p + 0.4 for p in x], decomposed_values, width=0.4, label='Decomposed VGG16', align='center')\n",
    "\n",
    "# Formatting\n",
    "plt.xticks([p + 0.2 for p in x], labels)\n",
    "plt.yscale('log')  # Use log scale for clarity\n",
    "plt.ylabel('Value (log scale)')\n",
    "plt.title('Comparison of FLOPs and Parameters')\n",
    "plt.legend()\n",
    "plt.show()\n"
   ]
  },
  {
   "cell_type": "code",
   "execution_count": 18,
   "id": "669804d8-90bc-4148-ac8f-264ba194f982",
   "metadata": {},
   "outputs": [
    {
     "data": {
      "image/png": "[encoded data removed]",
      "text/plain": [
       "<Figure size 1000x600 with 1 Axes>"
      ]
     },
     "metadata": {},
     "output_type": "display_data"
    }
   ],
   "source": [
    "import matplotlib.pyplot as plt\n",
    "\n",
    "# Metrics\n",
    "labels = ['FLOPs', 'Parameters']\n",
    "original_values = [15470289408, 138357544]\n",
    "decomposed_values = [3380178636, 56395192]\n",
    "\n",
    "# Create the figure and axis\n",
    "plt.figure(figsize=(10, 6))\n",
    "\n",
    "# Bar chart\n",
    "x = range(len(labels))\n",
    "plt.bar(x, original_values, width=0.4, label='Original VGG16', align='center', color='blue', alpha=0.7)\n",
    "plt.bar([p + 0.4 for p in x], decomposed_values, width=0.4, label='Decomposed VGG16', align='center', color='red', alpha=0.7)\n",
    "\n",
    "# Formatting\n",
    "plt.xticks([p + 0.2 for p in x], labels, fontsize=12)\n",
    "plt.yscale('log')  # Use log scale for clarity\n",
    "plt.ylabel('Value (log scale)', fontsize=12)\n",
    "plt.title('Comparison of FLOPs and Parameters in VGG16', fontsize=14)\n",
    "plt.legend(fontsize=10)\n",
    "\n",
    "# Add value labels on top of each bar\n",
    "for i, (orig, decomp) in enumerate(zip(original_values, decomposed_values)):\n",
    "    plt.text(i, orig, f'{orig:,}', ha='center', va='bottom', fontsize=9)\n",
    "    plt.text(i+0.4, decomp, f'{decomp:,}', ha='center', va='bottom', fontsize=9)\n",
    "\n",
    "plt.tight_layout()\n",
    "plt.show()"
   ]
  },
  {
   "cell_type": "code",
   "execution_count": 27,
   "id": "476d869f-41c9-4712-8ff9-e9bcdfe0842d",
   "metadata": {},
   "outputs": [
    {
     "data": {
      "text/plain": [
       "ResNet(\n",
       "  (conv1): Conv2d(3, 64, kernel_size=(7, 7), stride=(2, 2), padding=(3, 3), bias=False)\n",
       "  (bn1): BatchNorm2d(64, eps=1e-05, momentum=0.1, affine=True, track_running_stats=True)\n",
       "  (relu): ReLU(inplace=True)\n",
       "  (maxpool): MaxPool2d(kernel_size=3, stride=2, padding=1, dilation=1, ceil_mode=False)\n",
       "  (layer1): Sequential(\n",
       "    (0): Bottleneck(\n",
       "      (conv1): Conv2d(64, 64, kernel_size=(1, 1), stride=(1, 1), bias=False)\n",
       "      (bn1): BatchNorm2d(64, eps=1e-05, momentum=0.1, affine=True, track_running_stats=True)\n",
       "      (conv2): Conv2d(64, 64, kernel_size=(3, 3), stride=(1, 1), padding=(1, 1), bias=False)\n",
       "      (bn2): BatchNorm2d(64, eps=1e-05, momentum=0.1, affine=True, track_running_stats=True)\n",
       "      (conv3): Conv2d(64, 256, kernel_size=(1, 1), stride=(1, 1), bias=False)\n",
       "      (bn3): BatchNorm2d(256, eps=1e-05, momentum=0.1, affine=True, track_running_stats=True)\n",
       "      (relu): ReLU(inplace=True)\n",
       "      (downsample): Sequential(\n",
       "        (0): Conv2d(64, 256, kernel_size=(1, 1), stride=(1, 1), bias=False)\n",
       "        (1): BatchNorm2d(256, eps=1e-05, momentum=0.1, affine=True, track_running_stats=True)\n",
       "      )\n",
       "    )\n",
       "    (1): Bottleneck(\n",
       "      (conv1): Conv2d(256, 64, kernel_size=(1, 1), stride=(1, 1), bias=False)\n",
       "      (bn1): BatchNorm2d(64, eps=1e-05, momentum=0.1, affine=True, track_running_stats=True)\n",
       "      (conv2): Conv2d(64, 64, kernel_size=(3, 3), stride=(1, 1), padding=(1, 1), bias=False)\n",
       "      (bn2): BatchNorm2d(64, eps=1e-05, momentum=0.1, affine=True, track_running_stats=True)\n",
       "      (conv3): Conv2d(64, 256, kernel_size=(1, 1), stride=(1, 1), bias=False)\n",
       "      (bn3): BatchNorm2d(256, eps=1e-05, momentum=0.1, affine=True, track_running_stats=True)\n",
       "      (relu): ReLU(inplace=True)\n",
       "    )\n",
       "    (2): Bottleneck(\n",
       "      (conv1): Conv2d(256, 64, kernel_size=(1, 1), stride=(1, 1), bias=False)\n",
       "      (bn1): BatchNorm2d(64, eps=1e-05, momentum=0.1, affine=True, track_running_stats=True)\n",
       "      (conv2): Conv2d(64, 64, kernel_size=(3, 3), stride=(1, 1), padding=(1, 1), bias=False)\n",
       "      (bn2): BatchNorm2d(64, eps=1e-05, momentum=0.1, affine=True, track_running_stats=True)\n",
       "      (conv3): Conv2d(64, 256, kernel_size=(1, 1), stride=(1, 1), bias=False)\n",
       "      (bn3): BatchNorm2d(256, eps=1e-05, momentum=0.1, affine=True, track_running_stats=True)\n",
       "      (relu): ReLU(inplace=True)\n",
       "    )\n",
       "  )\n",
       "  (layer2): Sequential(\n",
       "    (0): Bottleneck(\n",
       "      (conv1): Conv2d(256, 128, kernel_size=(1, 1), stride=(1, 1), bias=False)\n",
       "      (bn1): BatchNorm2d(128, eps=1e-05, momentum=0.1, affine=True, track_running_stats=True)\n",
       "      (conv2): Conv2d(128, 128, kernel_size=(3, 3), stride=(2, 2), padding=(1, 1), bias=False)\n",
       "      (bn2): BatchNorm2d(128, eps=1e-05, momentum=0.1, affine=True, track_running_stats=True)\n",
       "      (conv3): Conv2d(128, 512, kernel_size=(1, 1), stride=(1, 1), bias=False)\n",
       "      (bn3): BatchNorm2d(512, eps=1e-05, momentum=0.1, affine=True, track_running_stats=True)\n",
       "      (relu): ReLU(inplace=True)\n",
       "      (downsample): Sequential(\n",
       "        (0): Conv2d(256, 512, kernel_size=(1, 1), stride=(2, 2), bias=False)\n",
       "        (1): BatchNorm2d(512, eps=1e-05, momentum=0.1, affine=True, track_running_stats=True)\n",
       "      )\n",
       "    )\n",
       "    (1): Bottleneck(\n",
       "      (conv1): Conv2d(512, 128, kernel_size=(1, 1), stride=(1, 1), bias=False)\n",
       "      (bn1): BatchNorm2d(128, eps=1e-05, momentum=0.1, affine=True, track_running_stats=True)\n",
       "      (conv2): Conv2d(128, 128, kernel_size=(3, 3), stride=(1, 1), padding=(1, 1), bias=False)\n",
       "      (bn2): BatchNorm2d(128, eps=1e-05, momentum=0.1, affine=True, track_running_stats=True)\n",
       "      (conv3): Conv2d(128, 512, kernel_size=(1, 1), stride=(1, 1), bias=False)\n",
       "      (bn3): BatchNorm2d(512, eps=1e-05, momentum=0.1, affine=True, track_running_stats=True)\n",
       "      (relu): ReLU(inplace=True)\n",
       "    )\n",
       "    (2): Bottleneck(\n",
       "      (conv1): Conv2d(512, 128, kernel_size=(1, 1), stride=(1, 1), bias=False)\n",
       "      (bn1): BatchNorm2d(128, eps=1e-05, momentum=0.1, affine=True, track_running_stats=True)\n",
       "      (conv2): Conv2d(128, 128, kernel_size=(3, 3), stride=(1, 1), padding=(1, 1), bias=False)\n",
       "      (bn2): BatchNorm2d(128, eps=1e-05, momentum=0.1, affine=True, track_running_stats=True)\n",
       "      (conv3): Conv2d(128, 512, kernel_size=(1, 1), stride=(1, 1), bias=False)\n",
       "      (bn3): BatchNorm2d(512, eps=1e-05, momentum=0.1, affine=True, track_running_stats=True)\n",
       "      (relu): ReLU(inplace=True)\n",
       "    )\n",
       "    (3): Bottleneck(\n",
       "      (conv1): Conv2d(512, 128, kernel_size=(1, 1), stride=(1, 1), bias=False)\n",
       "      (bn1): BatchNorm2d(128, eps=1e-05, momentum=0.1, affine=True, track_running_stats=True)\n",
       "      (conv2): Conv2d(128, 128, kernel_size=(3, 3), stride=(1, 1), padding=(1, 1), bias=False)\n",
       "      (bn2): BatchNorm2d(128, eps=1e-05, momentum=0.1, affine=True, track_running_stats=True)\n",
       "      (conv3): Conv2d(128, 512, kernel_size=(1, 1), stride=(1, 1), bias=False)\n",
       "      (bn3): BatchNorm2d(512, eps=1e-05, momentum=0.1, affine=True, track_running_stats=True)\n",
       "      (relu): ReLU(inplace=True)\n",
       "    )\n",
       "  )\n",
       "  (layer3): Sequential(\n",
       "    (0): Bottleneck(\n",
       "      (conv1): Conv2d(512, 256, kernel_size=(1, 1), stride=(1, 1), bias=False)\n",
       "      (bn1): BatchNorm2d(256, eps=1e-05, momentum=0.1, affine=True, track_running_stats=True)\n",
       "      (conv2): Conv2d(256, 256, kernel_size=(3, 3), stride=(2, 2), padding=(1, 1), bias=False)\n",
       "      (bn2): BatchNorm2d(256, eps=1e-05, momentum=0.1, affine=True, track_running_stats=True)\n",
       "      (conv3): Conv2d(256, 1024, kernel_size=(1, 1), stride=(1, 1), bias=False)\n",
       "      (bn3): BatchNorm2d(1024, eps=1e-05, momentum=0.1, affine=True, track_running_stats=True)\n",
       "      (relu): ReLU(inplace=True)\n",
       "      (downsample): Sequential(\n",
       "        (0): Conv2d(512, 1024, kernel_size=(1, 1), stride=(2, 2), bias=False)\n",
       "        (1): BatchNorm2d(1024, eps=1e-05, momentum=0.1, affine=True, track_running_stats=True)\n",
       "      )\n",
       "    )\n",
       "    (1): Bottleneck(\n",
       "      (conv1): Conv2d(1024, 256, kernel_size=(1, 1), stride=(1, 1), bias=False)\n",
       "      (bn1): BatchNorm2d(256, eps=1e-05, momentum=0.1, affine=True, track_running_stats=True)\n",
       "      (conv2): Conv2d(256, 256, kernel_size=(3, 3), stride=(1, 1), padding=(1, 1), bias=False)\n",
       "      (bn2): BatchNorm2d(256, eps=1e-05, momentum=0.1, affine=True, track_running_stats=True)\n",
       "      (conv3): Conv2d(256, 1024, kernel_size=(1, 1), stride=(1, 1), bias=False)\n",
       "      (bn3): BatchNorm2d(1024, eps=1e-05, momentum=0.1, affine=True, track_running_stats=True)\n",
       "      (relu): ReLU(inplace=True)\n",
       "    )\n",
       "    (2): Bottleneck(\n",
       "      (conv1): Conv2d(1024, 256, kernel_size=(1, 1), stride=(1, 1), bias=False)\n",
       "      (bn1): BatchNorm2d(256, eps=1e-05, momentum=0.1, affine=True, track_running_stats=True)\n",
       "      (conv2): Conv2d(256, 256, kernel_size=(3, 3), stride=(1, 1), padding=(1, 1), bias=False)\n",
       "      (bn2): BatchNorm2d(256, eps=1e-05, momentum=0.1, affine=True, track_running_stats=True)\n",
       "      (conv3): Conv2d(256, 1024, kernel_size=(1, 1), stride=(1, 1), bias=False)\n",
       "      (bn3): BatchNorm2d(1024, eps=1e-05, momentum=0.1, affine=True, track_running_stats=True)\n",
       "      (relu): ReLU(inplace=True)\n",
       "    )\n",
       "    (3): Bottleneck(\n",
       "      (conv1): Conv2d(1024, 256, kernel_size=(1, 1), stride=(1, 1), bias=False)\n",
       "      (bn1): BatchNorm2d(256, eps=1e-05, momentum=0.1, affine=True, track_running_stats=True)\n",
       "      (conv2): Conv2d(256, 256, kernel_size=(3, 3), stride=(1, 1), padding=(1, 1), bias=False)\n",
       "      (bn2): BatchNorm2d(256, eps=1e-05, momentum=0.1, affine=True, track_running_stats=True)\n",
       "      (conv3): Conv2d(256, 1024, kernel_size=(1, 1), stride=(1, 1), bias=False)\n",
       "      (bn3): BatchNorm2d(1024, eps=1e-05, momentum=0.1, affine=True, track_running_stats=True)\n",
       "      (relu): ReLU(inplace=True)\n",
       "    )\n",
       "    (4): Bottleneck(\n",
       "      (conv1): Conv2d(1024, 256, kernel_size=(1, 1), stride=(1, 1), bias=False)\n",
       "      (bn1): BatchNorm2d(256, eps=1e-05, momentum=0.1, affine=True, track_running_stats=True)\n",
       "      (conv2): Conv2d(256, 256, kernel_size=(3, 3), stride=(1, 1), padding=(1, 1), bias=False)\n",
       "      (bn2): BatchNorm2d(256, eps=1e-05, momentum=0.1, affine=True, track_running_stats=True)\n",
       "      (conv3): Conv2d(256, 1024, kernel_size=(1, 1), stride=(1, 1), bias=False)\n",
       "      (bn3): BatchNorm2d(1024, eps=1e-05, momentum=0.1, affine=True, track_running_stats=True)\n",
       "      (relu): ReLU(inplace=True)\n",
       "    )\n",
       "    (5): Bottleneck(\n",
       "      (conv1): Conv2d(1024, 256, kernel_size=(1, 1), stride=(1, 1), bias=False)\n",
       "      (bn1): BatchNorm2d(256, eps=1e-05, momentum=0.1, affine=True, track_running_stats=True)\n",
       "      (conv2): Conv2d(256, 256, kernel_size=(3, 3), stride=(1, 1), padding=(1, 1), bias=False)\n",
       "      (bn2): BatchNorm2d(256, eps=1e-05, momentum=0.1, affine=True, track_running_stats=True)\n",
       "      (conv3): Conv2d(256, 1024, kernel_size=(1, 1), stride=(1, 1), bias=False)\n",
       "      (bn3): BatchNorm2d(1024, eps=1e-05, momentum=0.1, affine=True, track_running_stats=True)\n",
       "      (relu): ReLU(inplace=True)\n",
       "    )\n",
       "  )\n",
       "  (layer4): Sequential(\n",
       "    (0): Bottleneck(\n",
       "      (conv1): Conv2d(1024, 512, kernel_size=(1, 1), stride=(1, 1), bias=False)\n",
       "      (bn1): BatchNorm2d(512, eps=1e-05, momentum=0.1, affine=True, track_running_stats=True)\n",
       "      (conv2): Conv2d(512, 512, kernel_size=(3, 3), stride=(2, 2), padding=(1, 1), bias=False)\n",
       "      (bn2): BatchNorm2d(512, eps=1e-05, momentum=0.1, affine=True, track_running_stats=True)\n",
       "      (conv3): Conv2d(512, 2048, kernel_size=(1, 1), stride=(1, 1), bias=False)\n",
       "      (bn3): BatchNorm2d(2048, eps=1e-05, momentum=0.1, affine=True, track_running_stats=True)\n",
       "      (relu): ReLU(inplace=True)\n",
       "      (downsample): Sequential(\n",
       "        (0): Conv2d(1024, 2048, kernel_size=(1, 1), stride=(2, 2), bias=False)\n",
       "        (1): BatchNorm2d(2048, eps=1e-05, momentum=0.1, affine=True, track_running_stats=True)\n",
       "      )\n",
       "    )\n",
       "    (1): Bottleneck(\n",
       "      (conv1): Conv2d(2048, 512, kernel_size=(1, 1), stride=(1, 1), bias=False)\n",
       "      (bn1): BatchNorm2d(512, eps=1e-05, momentum=0.1, affine=True, track_running_stats=True)\n",
       "      (conv2): Conv2d(512, 512, kernel_size=(3, 3), stride=(1, 1), padding=(1, 1), bias=False)\n",
       "      (bn2): BatchNorm2d(512, eps=1e-05, momentum=0.1, affine=True, track_running_stats=True)\n",
       "      (conv3): Conv2d(512, 2048, kernel_size=(1, 1), stride=(1, 1), bias=False)\n",
       "      (bn3): BatchNorm2d(2048, eps=1e-05, momentum=0.1, affine=True, track_running_stats=True)\n",
       "      (relu): ReLU(inplace=True)\n",
       "    )\n",
       "    (2): Bottleneck(\n",
       "      (conv1): Conv2d(2048, 512, kernel_size=(1, 1), stride=(1, 1), bias=False)\n",
       "      (bn1): BatchNorm2d(512, eps=1e-05, momentum=0.1, affine=True, track_running_stats=True)\n",
       "      (conv2): Conv2d(512, 512, kernel_size=(3, 3), stride=(1, 1), padding=(1, 1), bias=False)\n",
       "      (bn2): BatchNorm2d(512, eps=1e-05, momentum=0.1, affine=True, track_running_stats=True)\n",
       "      (conv3): Conv2d(512, 2048, kernel_size=(1, 1), stride=(1, 1), bias=False)\n",
       "      (bn3): BatchNorm2d(2048, eps=1e-05, momentum=0.1, affine=True, track_running_stats=True)\n",
       "      (relu): ReLU(inplace=True)\n",
       "    )\n",
       "  )\n",
       "  (avgpool): AdaptiveAvgPool2d(output_size=(1, 1))\n",
       "  (fc): Linear(in_features=2048, out_features=10, bias=True)\n",
       ")"
      ]
     },
     "execution_count": 27,
     "metadata": {},
     "output_type": "execute_result"
    }
   ],
   "source": [
    "state_dict2 = torch.load(\"resnet50.pth\", weights_only=True)\n",
    "net2 = models.resnet50(pretrained=False).to(device)\n",
    "net2.fc = torch.nn.Linear(net2.fc.in_features, 10)\n",
    "net2.load_state_dict(state_dict2)\n",
    "net2.to(device)"
   ]
  },
  {
   "cell_type": "code",
   "execution_count": 28,
   "id": "88d52648-d870-4ea0-a552-177f4a8964c9",
   "metadata": {},
   "outputs": [
    {
     "name": "stderr",
     "output_type": "stream",
     "text": [
      "Unsupported operator aten::add_ encountered 69 time(s)\n",
      "Unsupported operator aten::max_pool2d encountered 1 time(s)\n"
     ]
    },
    {
     "name": "stdout",
     "output_type": "stream",
     "text": [
      "-------------------------------------------------------  ------------  ------------  ------------  ------------  ------------  ------------  ------------  ------------  ------------  ------------  ------------  ------------  ------------  ------------  \n",
      "                                                   Name    Self CPU %      Self CPU   CPU total %     CPU total  CPU time avg     Self CUDA   Self CUDA %    CUDA total  CUDA time avg       CPU Mem  Self CPU Mem      CUDA Mem  Self CUDA Mem    # of Calls  \n",
      "-------------------------------------------------------  ------------  ------------  ------------  ------------  ------------  ------------  ------------  ------------  ------------  ------------  ------------  ------------  ------------  ------------  \n",
      "                                       cudaLaunchKernel        24.78%       6.560ms        24.78%       6.560ms      26.033us       0.000us         0.00%       0.000us       0.000us           0 b           0 b           0 b           0 b           252  \n",
      "                                     resnet50_inference        17.07%       4.519ms        99.98%      26.467ms      26.467ms       0.000us         0.00%       1.888ms       1.888ms           0 b           0 b     -34.41 Mb    -122.83 Mb             1  \n",
      "                                             cudaMalloc        14.87%       3.936ms        14.87%       3.936ms     187.417us       0.000us         0.00%       0.000us       0.000us           0 b           0 b           0 b           0 b            21  \n",
      "                                 aten::cudnn_batch_norm         8.55%       2.263ms        38.11%      10.090ms     190.373us     552.544us         2.07%     552.544us      10.425us           0 b           0 b      42.79 Mb           0 b            53  \n",
      "                                aten::cudnn_convolution         8.32%       2.202ms        23.69%       6.273ms     118.356us       1.059ms         3.98%       1.059ms      19.987us           0 b           0 b      43.33 Mb      43.33 Mb            53  \n",
      "                                            aten::empty         5.44%       1.440ms         9.63%       2.550ms       9.623us       0.000us         0.00%       0.000us       0.000us           0 b           0 b      42.79 Mb      42.79 Mb           265  \n",
      "cudaOccupancyMaxActiveBlocksPerMultiprocessorWithFla...         5.21%       1.378ms         5.21%       1.378ms      40.542us       0.000us         0.00%       0.000us       0.000us           0 b           0 b           0 b           0 b            34  \n",
      "                                             aten::add_         3.15%     834.157us         5.28%       1.397ms      20.242us     153.536us         0.58%     153.536us       2.225us           0 b           0 b           0 b           0 b            69  \n",
      "                                       aten::clamp_min_         1.85%     489.492us         3.09%     818.602us      16.706us      97.024us         0.36%      97.024us       1.980us           0 b           0 b           0 b           0 b            49  \n",
      "                                            aten::relu_         1.80%     477.256us         4.89%       1.296ms      26.446us       0.000us         0.00%      97.024us       1.980us           0 b           0 b           0 b           0 b            49  \n",
      "-------------------------------------------------------  ------------  ------------  ------------  ------------  ------------  ------------  ------------  ------------  ------------  ------------  ------------  ------------  ------------  ------------  \n",
      "Self CPU time total: 26.474ms\n",
      "Self CUDA time total: 26.649ms\n",
      "\n",
      "FLOPs (Original Resnet-50): 4142827008\n",
      "Parameters (Original Resnet-50): 23528522\n"
     ]
    }
   ],
   "source": [
    "with profile(\n",
    "    activities=[ProfilerActivity.CPU, ProfilerActivity.CUDA],\n",
    "    record_shapes=True,\n",
    "    profile_memory=True\n",
    ") as prof:\n",
    "    with record_function(\"resnet50_inference\"):\n",
    "        output = net2(input_tensor)\n",
    "\n",
    "print(prof.key_averages().table(sort_by=\"self_cpu_time_total\", row_limit=10))\n",
    "\n",
    "flops2 = FlopCountAnalysis(net2, input_tensor)\n",
    "params2 = parameter_count(net2)\n",
    "\n",
    "print(f\"FLOPs (Original Resnet-50): {flops2.total()}\")\n",
    "print(f\"Parameters (Original Resnet-50): {params2['']}\")"
   ]
  },
  {
   "cell_type": "code",
   "execution_count": 31,
   "id": "9d2b69bc-1e3b-4e17-9fe2-a0398837ea67",
   "metadata": {},
   "outputs": [
    {
     "name": "stderr",
     "output_type": "stream",
     "text": [
      "/tmp/ipykernel_78/4275405916.py:1: FutureWarning: You are using `torch.load` with `weights_only=False` (the current default value), which uses the default pickle module implicitly. It is possible to construct malicious pickle data which will execute arbitrary code during unpickling (See https://github.com/pytorch/pytorch/blob/main/SECURITY.md#untrusted-models for more details). In a future release, the default value for `weights_only` will be flipped to `True`. This limits the functions that could be executed during unpickling. Arbitrary objects will no longer be allowed to be loaded via this mode unless they are explicitly allowlisted by the user via `torch.serialization.add_safe_globals`. We recommend you start setting `weights_only=True` for any use case where you don't have full control of the loaded file. Please open an issue on GitHub for any issues related to this experimental feature.\n",
      "  checkpoint = torch.load('resnet50_ht2.pth')\n"
     ]
    }
   ],
   "source": [
    "checkpoint = torch.load('resnet50_ht2.pth')\n",
    "model2 = checkpoint[\"model\"] \n",
    "model2.load_state_dict(checkpoint[\"state_dict\"]) \n",
    "model2 = model2.to(device)"
   ]
  },
  {
   "cell_type": "code",
   "execution_count": 32,
   "id": "e507ede6-6884-454d-9e77-dc826c554bef",
   "metadata": {
    "scrolled": true
   },
   "outputs": [
    {
     "name": "stdout",
     "output_type": "stream",
     "text": [
      "-------------------------------------------------------  ------------  ------------  ------------  ------------  ------------  ------------  ------------  ------------  ------------  ------------  ------------  ------------  ------------  ------------  \n",
      "                                                   Name    Self CPU %      Self CPU   CPU total %     CPU total  CPU time avg     Self CUDA   Self CUDA %    CUDA total  CUDA time avg       CPU Mem  Self CPU Mem      CUDA Mem  Self CUDA Mem    # of Calls  \n",
      "-------------------------------------------------------  ------------  ------------  ------------  ------------  ------------  ------------  ------------  ------------  ------------  ------------  ------------  ------------  ------------  ------------  \n",
      "                                aten::cudnn_convolution        63.34%      74.613ms        83.60%      98.475ms     713.589us       1.817ms         1.55%       2.137ms      15.484us           0 b           0 b      67.20 Mb      27.44 Mb           138  \n",
      "                                  cudaFuncGetAttributes        10.36%      12.200ms        10.36%      12.200ms       2.658us       0.000us         0.00%       0.000us       0.000us           0 b           0 b           0 b           0 b          4589  \n",
      "                                     resnet50_inference         6.28%       7.399ms        99.99%     117.791ms     117.791ms       0.000us         0.00%       2.924ms       2.924ms           0 b           0 b      23.77 Mb     -88.43 Mb             1  \n",
      "                                             cudaMalloc         4.94%       5.816ms         4.94%       5.816ms     200.549us       0.000us         0.00%       0.000us       0.000us           0 b           0 b           0 b           0 b            29  \n",
      "                                       cudaLaunchKernel         3.72%       4.382ms         3.72%       4.382ms       9.717us       0.000us         0.00%       0.000us       0.000us           0 b           0 b           0 b           0 b           451  \n",
      "                                 aten::cudnn_batch_norm         1.76%       2.075ms         4.83%       5.694ms     107.438us     523.519us         0.45%     523.519us       9.878us           0 b           0 b      42.70 Mb           0 b            53  \n",
      "                                            aten::empty         1.64%       1.930ms         3.77%       4.439ms      13.291us       0.000us         0.00%       0.000us       0.000us           0 b           0 b      82.46 Mb      82.46 Mb           334  \n",
      "                                      aten::convolution         1.16%       1.371ms        85.51%     100.725ms     729.889us       0.000us         0.00%       2.137ms      15.484us           0 b           0 b      67.20 Mb           0 b           138  \n",
      "                                             aten::add_         0.76%     897.243us         1.25%       1.472ms      21.331us     147.582us         0.13%     147.582us       2.139us           0 b           0 b           0 b           0 b            69  \n",
      "                                     aten::_convolution         0.75%     878.407us        84.34%      99.354ms     719.954us       0.000us         0.00%       2.137ms      15.484us           0 b           0 b      67.20 Mb           0 b           138  \n",
      "-------------------------------------------------------  ------------  ------------  ------------  ------------  ------------  ------------  ------------  ------------  ------------  ------------  ------------  ------------  ------------  ------------  \n",
      "Self CPU time total: 117.798ms\n",
      "Self CUDA time total: 117.538ms\n",
      "\n"
     ]
    },
    {
     "name": "stderr",
     "output_type": "stream",
     "text": [
      "Unsupported operator aten::add_ encountered 69 time(s)\n",
      "Unsupported operator aten::max_pool2d encountered 1 time(s)\n"
     ]
    },
    {
     "name": "stdout",
     "output_type": "stream",
     "text": [
      "FLOPs (Decomposed Resnet50): 3479584227\n",
      "Parameters (Decomposed resnet50): 18695156\n"
     ]
    }
   ],
   "source": [
    "with profile(\n",
    "    activities=[ProfilerActivity.CPU, ProfilerActivity.CUDA],\n",
    "    record_shapes=True,\n",
    "    profile_memory=True\n",
    ") as prof:\n",
    "    with record_function(\"resnet50_inference\"):\n",
    "        output = model2(input_tensor)\n",
    "\n",
    "print(prof.key_averages().table(sort_by=\"self_cpu_time_total\", row_limit=10))\n",
    "\n",
    "flops = FlopCountAnalysis(model2, input_tensor)\n",
    "params = parameter_count(model2)\n",
    "\n",
    "print(f\"FLOPs (Decomposed Resnet50): {flops.total()}\")\n",
    "print(f\"Parameters (Decomposed resnet50): {params['']}\")"
   ]
  },
  {
   "cell_type": "code",
   "execution_count": 34,
   "id": "3c5b15bc-2eef-47e8-a435-f7d9bc955f8c",
   "metadata": {},
   "outputs": [
    {
     "data": {
      "image/png": "[encoded data removed]",
      "text/plain": [
       "<Figure size 1000x600 with 1 Axes>"
      ]
     },
     "metadata": {},
     "output_type": "display_data"
    }
   ],
   "source": [
    "import matplotlib.pyplot as plt\n",
    "\n",
    "# Metrics\n",
    "labels = ['FLOPs', 'Parameters']\n",
    "original_values = [4142827008, 23528522]\n",
    "decomposed_values = [3479584227, 18695156]\n",
    "\n",
    "# Create the figure and axis\n",
    "plt.figure(figsize=(10, 6))\n",
    "\n",
    "# Bar chart\n",
    "x = range(len(labels))\n",
    "plt.bar(x, original_values, width=0.4, label='Original Resnet50', align='center', color='blue', alpha=0.7)\n",
    "plt.bar([p + 0.4 for p in x], decomposed_values, width=0.4, label='Decomposed Resnet50', align='center', color='red', alpha=0.7)\n",
    "\n",
    "# Formatting\n",
    "plt.xticks([p + 0.2 for p in x], labels, fontsize=12)\n",
    "plt.yscale('log')  # Use log scale for clarity\n",
    "plt.ylabel('Value (log scale)', fontsize=12)\n",
    "plt.title('Comparison of FLOPs and Parameters in Resnet50', fontsize=14)\n",
    "plt.legend(fontsize=10)\n",
    "\n",
    "# Add value labels on top of each bar\n",
    "for i, (orig, decomp) in enumerate(zip(original_values, decomposed_values)):\n",
    "    plt.text(i, orig, f'{orig:,}', ha='center', va='bottom', fontsize=9)\n",
    "    plt.text(i+0.4, decomp, f'{decomp:,}', ha='center', va='bottom', fontsize=9)\n",
    "\n",
    "plt.tight_layout()\n",
    "plt.show()"
   ]
  },
  {
   "cell_type": "code",
   "execution_count": 50,
   "id": "c18fc9b4-f4be-4a2c-918a-6d652eff825a",
   "metadata": {},
   "outputs": [
    {
     "name": "stderr",
     "output_type": "stream",
     "text": [
      "/root/miniconda3/envs/py3.10/lib/python3.10/site-packages/torchvision/models/_utils.py:208: UserWarning: The parameter 'pretrained' is deprecated since 0.13 and may be removed in the future, please use 'weights' instead.\n",
      "  warnings.warn(\n",
      "/root/miniconda3/envs/py3.10/lib/python3.10/site-packages/torchvision/models/_utils.py:223: UserWarning: Arguments other than a weight enum or `None` for 'weights' are deprecated since 0.13 and may be removed in the future. The current behavior is equivalent to passing `weights=AlexNet_Weights.IMAGENET1K_V1`. You can also use `weights=AlexNet_Weights.DEFAULT` to get the most up-to-date weights.\n",
      "  warnings.warn(msg)\n"
     ]
    },
    {
     "data": {
      "text/plain": [
       "AlexNet(\n",
       "  (features): Sequential(\n",
       "    (0): Conv2d(3, 64, kernel_size=(11, 11), stride=(4, 4), padding=(2, 2))\n",
       "    (1): ReLU(inplace=True)\n",
       "    (2): MaxPool2d(kernel_size=3, stride=2, padding=0, dilation=1, ceil_mode=False)\n",
       "    (3): Conv2d(64, 192, kernel_size=(5, 5), stride=(1, 1), padding=(2, 2))\n",
       "    (4): ReLU(inplace=True)\n",
       "    (5): MaxPool2d(kernel_size=3, stride=2, padding=0, dilation=1, ceil_mode=False)\n",
       "    (6): Conv2d(192, 384, kernel_size=(3, 3), stride=(1, 1), padding=(1, 1))\n",
       "    (7): ReLU(inplace=True)\n",
       "    (8): Conv2d(384, 256, kernel_size=(3, 3), stride=(1, 1), padding=(1, 1))\n",
       "    (9): ReLU(inplace=True)\n",
       "    (10): Conv2d(256, 256, kernel_size=(3, 3), stride=(1, 1), padding=(1, 1))\n",
       "    (11): ReLU(inplace=True)\n",
       "    (12): MaxPool2d(kernel_size=3, stride=2, padding=0, dilation=1, ceil_mode=False)\n",
       "  )\n",
       "  (avgpool): AdaptiveAvgPool2d(output_size=(6, 6))\n",
       "  (classifier): Sequential(\n",
       "    (0): Dropout(p=0.5, inplace=False)\n",
       "    (1): Linear(in_features=9216, out_features=4096, bias=True)\n",
       "    (2): ReLU(inplace=True)\n",
       "    (3): Dropout(p=0.5, inplace=False)\n",
       "    (4): Linear(in_features=4096, out_features=4096, bias=True)\n",
       "    (5): ReLU(inplace=True)\n",
       "    (6): Linear(in_features=4096, out_features=1000, bias=True)\n",
       "  )\n",
       ")"
      ]
     },
     "execution_count": 50,
     "metadata": {},
     "output_type": "execute_result"
    }
   ],
   "source": [
    "net3 = models.alexnet(pretrained=True)\n",
    "net3.to(device)\n",
    "net3.eval()"
   ]
  },
  {
   "cell_type": "code",
   "execution_count": 51,
   "id": "0ca33f4b-2984-4293-8bde-e4f0db7a2464",
   "metadata": {},
   "outputs": [
    {
     "name": "stderr",
     "output_type": "stream",
     "text": [
      "Unsupported operator aten::max_pool2d encountered 3 time(s)\n"
     ]
    },
    {
     "name": "stdout",
     "output_type": "stream",
     "text": [
      "-------------------------------------------------------  ------------  ------------  ------------  ------------  ------------  ------------  ------------  ------------  ------------  ------------  ------------  ------------  ------------  ------------  \n",
      "                                                   Name    Self CPU %      Self CPU   CPU total %     CPU total  CPU time avg     Self CUDA   Self CUDA %    CUDA total  CUDA time avg       CPU Mem  Self CPU Mem      CUDA Mem  Self CUDA Mem    # of Calls  \n",
      "-------------------------------------------------------  ------------  ------------  ------------  ------------  ------------  ------------  ------------  ------------  ------------  ------------  ------------  ------------  ------------  ------------  \n",
      "                                       cudaLaunchKernel        47.40%       2.416ms        47.40%       2.416ms      80.542us       0.000us         0.00%       0.000us       0.000us           0 b           0 b           0 b           0 b            30  \n",
      "                                      alexnet_inference        28.30%       1.442ms        99.85%       5.090ms       5.090ms       0.000us         0.00%     572.735us     572.735us           0 b           0 b    -104.59 Mb    -107.52 Mb             1  \n",
      "                                aten::cudnn_convolution        10.90%     555.789us        56.96%       2.903ms     580.686us     187.264us         9.60%     187.264us      37.453us           0 b           0 b       1.85 Mb       1.85 Mb             5  \n",
      "                                            aten::addmm         2.08%     106.074us         2.58%     131.763us      43.921us     345.920us        17.73%     345.920us     115.307us           0 b           0 b      36.00 Kb      36.00 Kb             3  \n",
      "                                            aten::relu_         1.47%      75.045us         3.23%     164.779us      23.540us       0.000us         0.00%      11.360us       1.623us           0 b           0 b           0 b           0 b             7  \n",
      "                                      aten::convolution         1.40%      71.117us        61.77%       3.149ms     629.773us       0.000us         0.00%     201.184us      40.237us           0 b           0 b       1.85 Mb           0 b             5  \n",
      "                                     aten::_convolution         1.24%      63.155us        60.38%       3.078ms     615.550us       0.000us         0.00%     201.184us      40.237us           0 b           0 b       1.85 Mb           0 b             5  \n",
      "                                             aten::add_         1.19%      60.577us         1.86%      95.063us      19.013us      13.920us         0.71%      13.920us       2.784us           0 b           0 b           0 b           0 b             5  \n",
      "                          aten::max_pool2d_with_indices         1.13%      57.833us         1.57%      79.975us      26.658us      10.880us         0.56%      10.880us       3.627us           0 b           0 b       1.01 Mb       1.01 Mb             3  \n",
      "                                       aten::clamp_min_         0.92%      46.850us         1.76%      89.734us      12.819us      11.360us         0.58%      11.360us       1.623us           0 b           0 b           0 b           0 b             7  \n",
      "-------------------------------------------------------  ------------  ------------  ------------  ------------  ------------  ------------  ------------  ------------  ------------  ------------  ------------  ------------  ------------  ------------  \n",
      "Self CPU time total: 5.098ms\n",
      "Self CUDA time total: 1.951ms\n",
      "\n",
      "FLOPs (Original AlexNet): 714197696\n",
      "Parameters (Original AlexNet): 61100840\n"
     ]
    }
   ],
   "source": [
    "with profile(\n",
    "    activities=[ProfilerActivity.CPU, ProfilerActivity.CUDA],\n",
    "    record_shapes=True,\n",
    "    profile_memory=True\n",
    ") as prof:\n",
    "    with record_function(\"alexnet_inference\"):\n",
    "        output = net3(input_tensor)\n",
    "\n",
    "print(prof.key_averages().table(sort_by=\"self_cpu_time_total\", row_limit=10))\n",
    "\n",
    "flops3 = FlopCountAnalysis(net3, input_tensor)\n",
    "params3 = parameter_count(net3)\n",
    "\n",
    "print(f\"FLOPs (Original AlexNet): {flops3.total()}\")\n",
    "print(f\"Parameters (Original AlexNet): {params3['']}\")"
   ]
  },
  {
   "cell_type": "code",
   "execution_count": 52,
   "id": "e19e18fc-ed9d-4050-a0ad-27b8d5c64acd",
   "metadata": {},
   "outputs": [
    {
     "name": "stderr",
     "output_type": "stream",
     "text": [
      "/tmp/ipykernel_78/2768627348.py:1: FutureWarning: You are using `torch.load` with `weights_only=False` (the current default value), which uses the default pickle module implicitly. It is possible to construct malicious pickle data which will execute arbitrary code during unpickling (See https://github.com/pytorch/pytorch/blob/main/SECURITY.md#untrusted-models for more details). In a future release, the default value for `weights_only` will be flipped to `True`. This limits the functions that could be executed during unpickling. Arbitrary objects will no longer be allowed to be loaded via this mode unless they are explicitly allowlisted by the user via `torch.serialization.add_safe_globals`. We recommend you start setting `weights_only=True` for any use case where you don't have full control of the loaded file. Please open an issue on GitHub for any issues related to this experimental feature.\n",
      "  checkpoint = torch.load('alexnet_ht2.pth')\n"
     ]
    }
   ],
   "source": [
    "checkpoint = torch.load('alexnet_ht2.pth')\n",
    "model3 = checkpoint[\"model\"] \n",
    "model3.load_state_dict(checkpoint[\"state_dict\"]) \n",
    "model3 = model.to(device)"
   ]
  },
  {
   "cell_type": "code",
   "execution_count": 53,
   "id": "8aa06ec0-e8bc-4aac-856a-4debe099df3e",
   "metadata": {},
   "outputs": [
    {
     "name": "stdout",
     "output_type": "stream",
     "text": [
      "-------------------------------------------------------  ------------  ------------  ------------  ------------  ------------  ------------  ------------  ------------  ------------  ------------  ------------  ------------  ------------  ------------  \n",
      "                                                   Name    Self CPU %      Self CPU   CPU total %     CPU total  CPU time avg     Self CUDA   Self CUDA %    CUDA total  CUDA time avg       CPU Mem  Self CPU Mem      CUDA Mem  Self CUDA Mem    # of Calls  \n",
      "-------------------------------------------------------  ------------  ------------  ------------  ------------  ------------  ------------  ------------  ------------  ------------  ------------  ------------  ------------  ------------  ------------  \n",
      "                                       cudaLaunchKernel        48.07%      18.337ms        48.07%      18.337ms      40.659us       0.000us         0.00%       0.000us       0.000us           0 b           0 b           0 b           0 b           451  \n",
      "                                      alexnet_inference        14.31%       5.460ms        99.98%      38.137ms      38.137ms       0.000us         0.00%       3.107ms       3.107ms           0 b           0 b     104.31 Mb      -8.67 Mb             1  \n",
      "                                aten::cudnn_convolution        11.51%       4.391ms        63.47%      24.210ms     175.435us       1.924ms         7.73%       2.267ms      16.429us           0 b           0 b      67.79 Mb      28.03 Mb           138  \n",
      "                                 aten::cudnn_batch_norm         4.26%       1.626ms         9.73%       3.712ms      70.035us     564.959us         2.27%     564.959us      10.660us           0 b           0 b      42.88 Mb           0 b            53  \n",
      "                                            aten::empty         4.06%       1.548ms         4.06%       1.548ms       4.635us       0.000us         0.00%       0.000us       0.000us           0 b           0 b      82.65 Mb      82.65 Mb           334  \n",
      "                                      aten::convolution         2.73%       1.043ms        68.04%      25.954ms     188.070us       0.000us         0.00%       2.267ms      16.429us           0 b           0 b      67.79 Mb           0 b           138  \n",
      "                                     aten::_convolution         1.84%     700.649us        65.30%      24.911ms     180.512us       0.000us         0.00%       2.267ms      16.429us           0 b           0 b      67.79 Mb           0 b           138  \n",
      "                                             aten::add_         1.75%     668.871us         2.96%       1.128ms      16.351us     152.223us         0.61%     152.223us       2.206us           0 b           0 b           0 b           0 b            69  \n",
      "                                            aten::copy_         1.71%     652.248us         3.16%       1.204ms      17.446us     342.878us         1.38%     342.878us       4.969us           0 b           0 b           0 b           0 b            69  \n",
      "                                            aten::relu_         1.09%     415.570us         2.77%       1.057ms      21.571us       0.000us         0.00%     101.283us       2.067us           0 b           0 b           0 b           0 b            49  \n",
      "-------------------------------------------------------  ------------  ------------  ------------  ------------  ------------  ------------  ------------  ------------  ------------  ------------  ------------  ------------  ------------  ------------  \n",
      "Self CPU time total: 38.146ms\n",
      "Self CUDA time total: 24.892ms\n",
      "\n"
     ]
    },
    {
     "name": "stderr",
     "output_type": "stream",
     "text": [
      "Unsupported operator aten::add_ encountered 69 time(s)\n",
      "Unsupported operator aten::max_pool2d encountered 1 time(s)\n"
     ]
    },
    {
     "name": "stdout",
     "output_type": "stream",
     "text": [
      "FLOPs (Decomposed AlexNet): 3479584227\n",
      "Parameters (Decomposed AlexNet): 18695156\n"
     ]
    }
   ],
   "source": [
    "with profile(\n",
    "    activities=[ProfilerActivity.CPU, ProfilerActivity.CUDA],\n",
    "    record_shapes=True,\n",
    "    profile_memory=True\n",
    ") as prof:\n",
    "    with record_function(\"alexnet_inference\"):\n",
    "        output = model3(input_tensor)\n",
    "\n",
    "print(prof.key_averages().table(sort_by=\"self_cpu_time_total\", row_limit=10))\n",
    "\n",
    "flops4 = FlopCountAnalysis(model3, input_tensor)\n",
    "params4 = parameter_count(model3)\n",
    "\n",
    "print(f\"FLOPs (Decomposed AlexNet): {flops4.total()}\")\n",
    "print(f\"Parameters (Decomposed AlexNet): {params4['']}\")"
   ]
  },
  {
   "cell_type": "code",
   "execution_count": 54,
   "id": "bbd623db-baa4-40e5-8a17-646ca99945e9",
   "metadata": {},
   "outputs": [
    {
     "data": {
      "image/png": "[encoded data removed]",
      "text/plain": [
       "<Figure size 1000x600 with 1 Axes>"
      ]
     },
     "metadata": {},
     "output_type": "display_data"
    }
   ],
   "source": [
    "import matplotlib.pyplot as plt\n",
    "\n",
    "# Metrics\n",
    "labels = ['FLOPs', 'Parameters']\n",
    "original_values = [714197696, 61100840]\n",
    "decomposed_values = [3479584227, 18695156]\n",
    "\n",
    "# Create the figure and axis\n",
    "plt.figure(figsize=(10, 6))\n",
    "\n",
    "# Bar chart\n",
    "x = range(len(labels))\n",
    "plt.bar(x, original_values, width=0.4, label='Original AlexNet', align='center', color='blue', alpha=0.7)\n",
    "plt.bar([p + 0.4 for p in x], decomposed_values, width=0.4, label='Decomposed AlexNet', align='center', color='red', alpha=0.7)\n",
    "\n",
    "# Formatting\n",
    "plt.xticks([p + 0.2 for p in x], labels, fontsize=12)\n",
    "plt.yscale('log')  # Use log scale for clarity\n",
    "plt.ylabel('Value (log scale)', fontsize=12)\n",
    "plt.title('Comparison of FLOPs and Parameters in AlexNet', fontsize=14)\n",
    "plt.legend(fontsize=10)\n",
    "\n",
    "# Add value labels on top of each bar\n",
    "for i, (orig, decomp) in enumerate(zip(original_values, decomposed_values)):\n",
    "    plt.text(i, orig, f'{orig:,}', ha='center', va='bottom', fontsize=9)\n",
    "    plt.text(i+0.4, decomp, f'{decomp:,}', ha='center', va='bottom', fontsize=9)\n",
    "\n",
    "plt.tight_layout()\n",
    "plt.show()"
   ]
  },
  {
   "cell_type": "code",
   "execution_count": null,
   "id": "36679493-06b2-4ab1-9014-b04c5eec7c81",
   "metadata": {},
   "outputs": [],
   "source": []
  }
 ],
 "metadata": {
  "kernelspec": {
   "display_name": "Python 3 (ipykernel)",
   "language": "python",
   "name": "python3"
  },
  "language_info": {
   "codemirror_mode": {
    "name": "ipython",
    "version": 3
   },
   "file_extension": ".py",
   "mimetype": "text/x-python",
   "name": "python",
   "nbconvert_exporter": "python",
   "pygments_lexer": "ipython3",
   "version": "3.10.14"
  }
 },
 "nbformat": 4,
 "nbformat_minor": 5
}
