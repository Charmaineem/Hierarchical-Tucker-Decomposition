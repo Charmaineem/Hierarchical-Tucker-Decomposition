{
 "cells": [
  {
   "cell_type": "code",
   "execution_count": 1,
   "id": "e10e6b9d-7cda-4fb6-9d1b-364fee00c2a9",
   "metadata": {},
   "outputs": [],
   "source": [
    "import torch\n",
    "import torchvision.transforms as transforms\n",
    "from torchvision import datasets\n",
    "from torch.utils.data import DataLoader\n",
    "from torchvision import models\n",
    "import time"
   ]
  },
  {
   "cell_type": "code",
   "execution_count": 2,
   "id": "b795f59d-2dc9-4061-81d3-ad943d5e84a3",
   "metadata": {},
   "outputs": [
    {
     "name": "stdout",
     "output_type": "stream",
     "text": [
      "Files already downloaded and verified\n",
      "Files already downloaded and verified\n"
     ]
    }
   ],
   "source": [
    "transform = transforms.Compose(\n",
    "    [transforms.Resize((224,224)),\n",
    "     transforms.ToTensor(),\n",
    "     transforms.Normalize((0.5,0.5,0.5),(0.5,0.5,0.5))]\n",
    ")\n",
    "\n",
    "# Load the train and test sets\n",
    "train_dataset = datasets.CIFAR10(root='./data', train=True, download=True, transform=transform)\n",
    "train_loader = DataLoader(train_dataset, batch_size=64, shuffle=True, num_workers=2)\n",
    "\n",
    "test_dataset = datasets.CIFAR10(root='./data', train=False, download=True, transform=transform)\n",
    "test_loader = DataLoader(test_dataset, batch_size=64, shuffle=False, num_workers=2)"
   ]
  },
  {
   "cell_type": "code",
   "execution_count": 3,
   "id": "569c863f-788e-45cf-9ada-1e8dbced1342",
   "metadata": {},
   "outputs": [
    {
     "name": "stdout",
     "output_type": "stream",
     "text": [
      "cuda\n"
     ]
    }
   ],
   "source": [
    "device = torch.device(\"cuda\" if torch.cuda.is_available() else \"cpu\")\n",
    "print(device)"
   ]
  },
  {
   "cell_type": "code",
   "execution_count": 4,
   "id": "abb3e48a-a075-4266-b9a3-609a837a2580",
   "metadata": {},
   "outputs": [
    {
     "name": "stderr",
     "output_type": "stream",
     "text": [
      "/tmp/ipykernel_280/2613949601.py:4: FutureWarning: You are using `torch.load` with `weights_only=False` (the current default value), which uses the default pickle module implicitly. It is possible to construct malicious pickle data which will execute arbitrary code during unpickling (See https://github.com/pytorch/pytorch/blob/main/SECURITY.md#untrusted-models for more details). In a future release, the default value for `weights_only` will be flipped to `True`. This limits the functions that could be executed during unpickling. Arbitrary objects will no longer be allowed to be loaded via this mode unless they are explicitly allowlisted by the user via `torch.serialization.add_safe_globals`. We recommend you start setting `weights_only=True` for any use case where you don't have full control of the loaded file. Please open an issue on GitHub for any issues related to this experimental feature.\n",
      "  checkpoint = torch.load('alexnet_ht2.pth')\n"
     ]
    },
    {
     "data": {
      "text/plain": [
       "AlexNet(\n",
       "  (features): Sequential(\n",
       "    (0): Sequential(\n",
       "      (0): Conv2d(3, 64, kernel_size=(11, 11), stride=(4, 4), padding=(2, 2), bias=False)\n",
       "      (1): Conv2d(64, 64, kernel_size=(1, 1), stride=(1, 1))\n",
       "    )\n",
       "    (1): ReLU(inplace=True)\n",
       "    (2): MaxPool2d(kernel_size=3, stride=2, padding=0, dilation=1, ceil_mode=False)\n",
       "    (3): Sequential(\n",
       "      (0): Conv2d(64, 23, kernel_size=(1, 1), stride=(1, 1), bias=False)\n",
       "      (1): Conv2d(23, 58, kernel_size=(5, 1), stride=(1, 1), padding=(2, 0), bias=False)\n",
       "      (2): Conv2d(58, 71, kernel_size=(1, 5), stride=(1, 1), padding=(0, 2), bias=False)\n",
       "      (3): Conv2d(71, 192, kernel_size=(1, 1), stride=(1, 1))\n",
       "    )\n",
       "    (4): ReLU(inplace=True)\n",
       "    (5): MaxPool2d(kernel_size=3, stride=2, padding=0, dilation=1, ceil_mode=False)\n",
       "    (6): Sequential(\n",
       "      (0): Conv2d(192, 384, kernel_size=(3, 3), stride=(1, 1), padding=(1, 1), bias=False)\n",
       "      (1): Conv2d(384, 384, kernel_size=(1, 1), stride=(1, 1))\n",
       "    )\n",
       "    (7): ReLU(inplace=True)\n",
       "    (8): Sequential(\n",
       "      (0): Conv2d(384, 256, kernel_size=(3, 3), stride=(1, 1), padding=(1, 1), bias=False)\n",
       "      (1): Conv2d(256, 256, kernel_size=(1, 1), stride=(1, 1))\n",
       "    )\n",
       "    (9): ReLU(inplace=True)\n",
       "    (10): Sequential(\n",
       "      (0): Conv2d(256, 256, kernel_size=(3, 3), stride=(1, 1), padding=(1, 1), bias=False)\n",
       "      (1): Conv2d(256, 256, kernel_size=(1, 1), stride=(1, 1))\n",
       "    )\n",
       "    (11): ReLU(inplace=True)\n",
       "    (12): MaxPool2d(kernel_size=3, stride=2, padding=0, dilation=1, ceil_mode=False)\n",
       "  )\n",
       "  (avgpool): AdaptiveAvgPool2d(output_size=(6, 6))\n",
       "  (classifier): Sequential(\n",
       "    (0): Dropout(p=0.5, inplace=False)\n",
       "    (1): Sequential(\n",
       "      (0): Linear(in_features=9216, out_features=1430, bias=False)\n",
       "      (1): Linear(in_features=1430, out_features=4096, bias=True)\n",
       "    )\n",
       "    (2): ReLU(inplace=True)\n",
       "    (3): Dropout(p=0.5, inplace=False)\n",
       "    (4): Sequential(\n",
       "      (0): Linear(in_features=4096, out_features=939, bias=False)\n",
       "      (1): Linear(in_features=939, out_features=4096, bias=True)\n",
       "    )\n",
       "    (5): ReLU(inplace=True)\n",
       "    (6): Sequential(\n",
       "      (0): Linear(in_features=4096, out_features=477, bias=False)\n",
       "      (1): Linear(in_features=477, out_features=1000, bias=True)\n",
       "    )\n",
       "  )\n",
       ")"
      ]
     },
     "execution_count": 4,
     "metadata": {},
     "output_type": "execute_result"
    }
   ],
   "source": [
    "import torch\n",
    "\n",
    "# Load the checkpoint\n",
    "checkpoint = torch.load('alexnet_ht2.pth')\n",
    "\n",
    "# Extract the model structure and state dict\n",
    "model = checkpoint[\"model\"]  # This contains the model architecture\n",
    "model.load_state_dict(checkpoint[\"state_dict\"])  # Load the saved weights\n",
    "\n",
    "# Move the model to the appropriate device\n",
    "model = model.to(device)\n",
    "\n",
    "# Set model to training mode\n",
    "model.train()\n"
   ]
  },
  {
   "cell_type": "code",
   "execution_count": 5,
   "id": "d6894e7a-5a99-4aad-850a-25a906cb7dbe",
   "metadata": {},
   "outputs": [],
   "source": [
    "import torch.optim as optim\n",
    "import torch.nn as nn\n",
    "\n",
    "optimizer = optim.SGD(model.classifier.parameters(), lr=0.001, momentum=0.9)\n",
    "criterion = nn.CrossEntropyLoss()"
   ]
  },
  {
   "cell_type": "code",
   "execution_count": 6,
   "id": "5d750339-2fd6-499b-b403-62a5dd99cc24",
   "metadata": {},
   "outputs": [],
   "source": [
    "def validate(model, test_dataloader, criterion):\n",
    "    model.eval()\n",
    "    top1_correct = 0\n",
    "    top5_correct = 0\n",
    "    total_samples = 0\n",
    "    val_running_loss = 0.0\n",
    "\n",
    "    with torch.no_grad():\n",
    "        for data, target in test_dataloader:\n",
    "            data, target = data.to(device), target.to(device)\n",
    "            output = model(data)\n",
    "            loss = criterion(output, target)\n",
    "            val_running_loss += loss.item() * target.size(0)  # accumulate the total loss\n",
    "\n",
    "            # Calculate top-1 and top-5 accuracy\n",
    "            _, top5_preds = output.topk(5, dim=1, largest=True, sorted=True)\n",
    "            top5_preds = top5_preds.t()  \n",
    "\n",
    "            top1_correct += top5_preds[:1].eq(target.view(1, -1)).sum().item()\n",
    "            top5_correct += top5_preds.eq(target.view(1, -1)).sum().item()\n",
    "            total_samples += target.size(0)\n",
    "\n",
    "    top1_accuracy = 100. * top1_correct / total_samples\n",
    "    top5_accuracy = 100. * top5_correct / total_samples\n",
    "    val_loss = val_running_loss / total_samples  # calculate average validation loss\n",
    "\n",
    "    print(f'Validation Loss: {val_loss:.4f}, Top-1 Acc: {top1_accuracy:.2f}, Top-5 Acc: {top5_accuracy:.2f}')\n",
    "    return val_loss, top1_accuracy, top5_accuracy"
   ]
  },
  {
   "cell_type": "code",
   "execution_count": 7,
   "id": "5b57d5a9-7429-4eb0-98d6-5391006b24df",
   "metadata": {},
   "outputs": [],
   "source": [
    "def fit(model, train_dataloader, criterion, optimizer):\n",
    "    model.train()\n",
    "    train_running_loss = 0.0\n",
    "    top1_correct = 0\n",
    "    top5_correct = 0\n",
    "    total_samples = 0\n",
    "\n",
    "    for data, target in train_dataloader:\n",
    "        data, target = data.to(device), target.to(device)\n",
    "        optimizer.zero_grad()\n",
    "        output = model(data)\n",
    "        loss = criterion(output, target)\n",
    "        \n",
    "        # Accumulate the total loss\n",
    "        train_running_loss += loss.item() * target.size(0)\n",
    "\n",
    "        # Calculate top-1 and top-5 accuracy\n",
    "        _, top5_preds = output.topk(5, dim=1, largest=True, sorted=True)\n",
    "        top5_preds = top5_preds.t()\n",
    "        \n",
    "        top1_correct += top5_preds[:1].eq(target.view(1, -1)).sum().item()\n",
    "        top5_correct += top5_preds.eq(target.view(1, -1)).sum().item()\n",
    "        total_samples += target.size(0)\n",
    "\n",
    "        loss.backward()\n",
    "        optimizer.step()\n",
    "\n",
    "    train_loss = train_running_loss / total_samples  # average train loss\n",
    "    top1_accuracy = 100. * top1_correct / total_samples\n",
    "    top5_accuracy = 100. * top5_correct / total_samples\n",
    "\n",
    "    print(f'Train Loss: {train_loss:.4f}, Top-1 Acc: {top1_accuracy:.2f}, Top-5 Acc: {top5_accuracy:.2f}')\n",
    "    return train_loss, top1_accuracy, top5_accuracy"
   ]
  },
  {
   "cell_type": "code",
   "execution_count": 8,
   "id": "de4fb185-fb76-443c-97d6-4f982073aa1b",
   "metadata": {},
   "outputs": [
    {
     "name": "stdout",
     "output_type": "stream",
     "text": [
      "Train Loss: 1.1704, Top-1 Acc: 59.76, Top-5 Acc: 95.26\n",
      "Validation Loss: 0.8903, Top-1 Acc: 68.50, Top-5 Acc: 97.94\n",
      "Train Loss: 0.9077, Top-1 Acc: 67.97, Top-5 Acc: 97.65\n",
      "Validation Loss: 0.7504, Top-1 Acc: 73.09, Top-5 Acc: 98.60\n",
      "Train Loss: 0.8195, Top-1 Acc: 71.24, Top-5 Acc: 98.18\n",
      "Validation Loss: 0.7354, Top-1 Acc: 73.72, Top-5 Acc: 98.62\n",
      "Train Loss: 0.7574, Top-1 Acc: 73.31, Top-5 Acc: 98.42\n",
      "Validation Loss: 0.6946, Top-1 Acc: 75.82, Top-5 Acc: 98.61\n",
      "Train Loss: 0.7174, Top-1 Acc: 74.70, Top-5 Acc: 98.72\n",
      "Validation Loss: 0.6475, Top-1 Acc: 77.21, Top-5 Acc: 98.91\n",
      "Train Loss: 0.6749, Top-1 Acc: 76.26, Top-5 Acc: 98.80\n",
      "Validation Loss: 0.6315, Top-1 Acc: 77.63, Top-5 Acc: 99.06\n",
      "Train Loss: 0.6435, Top-1 Acc: 77.11, Top-5 Acc: 99.00\n",
      "Validation Loss: 0.6051, Top-1 Acc: 78.50, Top-5 Acc: 99.14\n",
      "Train Loss: 0.6165, Top-1 Acc: 78.24, Top-5 Acc: 99.07\n",
      "Validation Loss: 0.5923, Top-1 Acc: 79.06, Top-5 Acc: 99.22\n",
      "Train Loss: 0.5892, Top-1 Acc: 79.09, Top-5 Acc: 99.16\n",
      "Validation Loss: 0.5897, Top-1 Acc: 78.99, Top-5 Acc: 99.23\n",
      "Train Loss: 0.5639, Top-1 Acc: 80.20, Top-5 Acc: 99.22\n",
      "Validation Loss: 0.5764, Top-1 Acc: 79.81, Top-5 Acc: 99.20\n",
      "Training took 6.39 minutes\n",
      "Final Train Loss: 0.5639, Top-1 Acc: 80.20, Top-5 Acc: 99.22\n",
      "Final Val Loss: 0.5764, Top-1 Acc: 79.81, Top-5 Acc: 99.20\n"
     ]
    }
   ],
   "source": [
    "train_loss, train_top1_accuracy, train_top5_accuracy = [], [], []\n",
    "val_loss, val_top1_accuracy, val_top5_accuracy = [], [], []\n",
    "\n",
    "start = time.time()\n",
    "for epoch in range(10):\n",
    "    train_epoch_loss, train_top1_acc, train_top5_acc = fit(model, train_loader, criterion, optimizer)\n",
    "    val_epoch_loss, val_top1_acc, val_top5_acc = validate(model, test_loader, criterion)\n",
    "    \n",
    "    train_loss.append(train_epoch_loss)\n",
    "    train_top1_accuracy.append(train_top1_acc)\n",
    "    train_top5_accuracy.append(train_top5_acc)\n",
    "    val_loss.append(val_epoch_loss)\n",
    "    val_top1_accuracy.append(val_top1_acc)\n",
    "    val_top5_accuracy.append(val_top5_acc)\n",
    "\n",
    "end = time.time()\n",
    "\n",
    "torch.save(model.state_dict(), 'alexnet_finetuned.pth')\n",
    "print(f\"Training took {(end - start) / 60:.2f} minutes\")\n",
    "\n",
    "# Print final statistics\n",
    "print(f\"Final Train Loss: {train_loss[-1]:.4f}, Top-1 Acc: {train_top1_accuracy[-1]:.2f}, Top-5 Acc: {train_top5_accuracy[-1]:.2f}\")\n",
    "print(f\"Final Val Loss: {val_loss[-1]:.4f}, Top-1 Acc: {val_top1_accuracy[-1]:.2f}, Top-5 Acc: {val_top5_accuracy[-1]:.2f}\")"
   ]
  },
  {
   "cell_type": "code",
   "execution_count": 9,
   "id": "74616cfb-6bbf-4aa8-a45a-791dd8a8b2a1",
   "metadata": {},
   "outputs": [
    {
     "data": {
      "image/png": "[encoded data removed]",
      "text/plain": [
       "<Figure size 800x600 with 1 Axes>"
      ]
     },
     "metadata": {},
     "output_type": "display_data"
    }
   ],
   "source": [
    "import matplotlib.pyplot as plt\n",
    "\n",
    "# Data for accuracies before and after decomposition\n",
    "accuracies = {\n",
    "    \"Top-1 Accuracy\": [82.64, 80.20],\n",
    "    \"Top-5 Accuracy\": [99.25, 99.22]\n",
    "}\n",
    "\n",
    "# Labels for the x-axis (Before and After Decomposition)\n",
    "labels = [\"Before Decomposition\", \"After Decomposition\"]\n",
    "\n",
    "# Plotting the data as a bar chart\n",
    "bar_width = 0.35\n",
    "index = range(len(labels))\n",
    "\n",
    "# Create a figure and axis\n",
    "plt.figure(figsize=(8, 6))\n",
    "\n",
    "# Bar plot for Top-1 and Top-5 accuracies\n",
    "plt.bar(index, accuracies[\"Top-1 Accuracy\"], bar_width, label=\"Top-1\", color='blue', alpha=0.7)\n",
    "plt.bar([p + bar_width for p in index], accuracies[\"Top-5 Accuracy\"], bar_width, label=\"Top-5\", color='green', alpha=0.7)\n",
    "\n",
    "# Adding labels and title\n",
    "plt.xlabel(\"Compression Stage\")\n",
    "plt.ylabel(\"Accuracy (%)\")\n",
    "plt.title(\"Top-1 and Top-5 Accuracy Before and After Decomposition\")\n",
    "\n",
    "# Adjust the x-axis to show the labels\n",
    "plt.xticks([p + bar_width / 2 for p in index], labels)\n",
    "\n",
    "# Displaying the legend and grid\n",
    "plt.legend()\n",
    "plt.grid(True)\n",
    "\n",
    "# Show the plot\n",
    "plt.show()\n",
    "\n"
   ]
  },
  {
   "cell_type": "code",
   "execution_count": null,
   "id": "4c490530-981d-4b13-bf03-a04e2d04c1ac",
   "metadata": {},
   "outputs": [],
   "source": []
  }
 ],
 "metadata": {
  "kernelspec": {
   "display_name": "Python 3 (ipykernel)",
   "language": "python",
   "name": "python3"
  },
  "language_info": {
   "codemirror_mode": {
    "name": "ipython",
    "version": 3
   },
   "file_extension": ".py",
   "mimetype": "text/x-python",
   "name": "python",
   "nbconvert_exporter": "python",
   "pygments_lexer": "ipython3",
   "version": "3.10.14"
  }
 },
 "nbformat": 4,
 "nbformat_minor": 5
}
